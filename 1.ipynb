{
 "cells": [
  {
   "cell_type": "code",
   "execution_count": 2,
   "id": "c4006e24",
   "metadata": {},
   "outputs": [
    {
     "name": "stdout",
     "output_type": "stream",
     "text": [
      "Enter temperature in Celsius: 45\n",
      "45.0°C is equal to 113.0°F\n"
     ]
    }
   ],
   "source": [
    "def C_to_F(cel):\n",
    "    fahrenheit = (cel * 9/5) + 32\n",
    "    return fahrenheit\n",
    "\n",
    "cel = float(input(\"Enter temperature in Celsius: \"))\n",
    "fahrenheit = C_to_F(cel)\n",
    "print(f\"{cel}°C is equal to {fahrenheit}°F\")"
   ]
  },
  {
   "cell_type": "code",
   "execution_count": 4,
   "id": "8c4b5885",
   "metadata": {},
   "outputs": [
    {
     "name": "stdout",
     "output_type": "stream",
     "text": [
      "Enter a value: 3\n",
      "The variable '3' is a digit.\n"
     ]
    }
   ],
   "source": [
    "def is_digit(value):\n",
    "    return value.isdigit()\n",
    "\n",
    "variable = input(\"Enter a value: \")\n",
    "\n",
    "if is_digit(variable):\n",
    "    print(f\"The variable '{variable}' is a digit.\")\n",
    "else:\n",
    "    print(f\"The variable '{variable}' is not a digit.\")\n"
   ]
  },
  {
   "cell_type": "code",
   "execution_count": 5,
   "id": "85d5789e",
   "metadata": {},
   "outputs": [
    {
     "name": "stdout",
     "output_type": "stream",
     "text": [
      "Simple Calculator\n",
      "Select an operation:\n",
      "1. Addition (+)\n",
      "2. Subtraction (-)\n",
      "3. Multiplication (*)\n",
      "4. Division (/)\n",
      "Enter choice (1/2/3/4): 3\n",
      "Enter first number: 4444\n",
      "Enter second number: 2222\n",
      "4444.0 * 2222.0 = 9874568.0\n"
     ]
    }
   ],
   "source": [
    "def calculator():\n",
    "    print(\"Simple Calculator\")\n",
    "    print(\"Select an operation:\")\n",
    "    print(\"1. Addition (+)\")\n",
    "    print(\"2. Subtraction (-)\")\n",
    "    print(\"3. Multiplication (*)\")\n",
    "    print(\"4. Division (/)\")\n",
    "    \n",
    "    choice = input(\"Enter choice (1/2/3/4): \")\n",
    "\n",
    "    if choice in ['1', '2', '3', '4']:\n",
    "        num1 = float(input(\"Enter first number: \"))\n",
    "        num2 = float(input(\"Enter second number: \"))\n",
    "        \n",
    "        if choice == '1':\n",
    "            print(f\"{num1} + {num2} = {num1 + num2}\")\n",
    "        elif choice == '2':\n",
    "            print(f\"{num1} - {num2} = {num1 - num2}\")\n",
    "        elif choice == '3':\n",
    "            print(f\"{num1} * {num2} = {num1 * num2}\")\n",
    "        elif choice == '4':\n",
    "            if num2 != 0:\n",
    "                print(f\"{num1} / {num2} = {num1 / num2}\")\n",
    "            else:\n",
    "                print(\"Error! Division by zero.\")\n",
    "    else:\n",
    "        print(\"Invalid input. Please select a valid operation.\")\n",
    "calculator()"
   ]
  }
 ],
 "metadata": {
  "kernelspec": {
   "display_name": "Python 3 (ipykernel)",
   "language": "python",
   "name": "python3"
  },
  "language_info": {
   "codemirror_mode": {
    "name": "ipython",
    "version": 3
   },
   "file_extension": ".py",
   "mimetype": "text/x-python",
   "name": "python",
   "nbconvert_exporter": "python",
   "pygments_lexer": "ipython3",
   "version": "3.11.7"
  }
 },
 "nbformat": 4,
 "nbformat_minor": 5
}
